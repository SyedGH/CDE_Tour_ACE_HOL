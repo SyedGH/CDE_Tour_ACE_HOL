{
 "cells": [
  {
   "cell_type": "code",
   "execution_count": 1,
   "id": "99f30eb1-7732-481b-8666-ad561c022767",
   "metadata": {},
   "outputs": [],
   "source": [
    "#!pip3 install pandas\n",
    "#!pip3 install PyArrow\n",
    "from pyspark.sql.functions import col\n",
    "import os"
   ]
  },
  {
   "cell_type": "code",
   "execution_count": 2,
   "id": "788ca831-d2f8-4126-9282-2a8be6e9845c",
   "metadata": {},
   "outputs": [],
   "source": [
    "#df = pd.read_csv(\"train.gz\")"
   ]
  },
  {
   "cell_type": "code",
   "execution_count": 3,
   "id": "dd78ba56-7cc8-4dc1-91c4-710b6c2b3396",
   "metadata": {},
   "outputs": [],
   "source": [
    "from pyspark.sql import SparkSession\n",
    "from pyspark.sql import functions as F\n",
    "from pyspark.sql.types import TimestampType"
   ]
  },
  {
   "cell_type": "code",
   "execution_count": 4,
   "id": "3aea7c39-5e94-4b61-83bd-c8b1b55a7514",
   "metadata": {},
   "outputs": [],
   "source": [
    "from IPython.display import Javascript, HTML\n",
    "import os\n",
    "import time\n",
    "import json\n",
    "import requests\n",
    "import xml.etree.ElementTree as ET\n",
    "import datetime\n",
    "import subprocess"
   ]
  },
  {
   "cell_type": "code",
   "execution_count": 5,
   "id": "abac79a2-8d51-429b-939d-f7f16bae4846",
   "metadata": {},
   "outputs": [],
   "source": [
    "if os.path.exists(\"/etc/hadoop/conf/hive-site.xml\"):\n",
    "    tree = ET.parse(\"/etc/hadoop/conf/hive-site.xml\")\n",
    "    root = tree.getroot()\n",
    "    for prop in root.findall(\"property\"):\n",
    "        if prop.find(\"name\").text == \"hive.metastore.warehouse.dir\":\n",
    "            storage = (\n",
    "                prop.find(\"value\").text.split(\"/\")[0]\n",
    "                + \"//\"\n",
    "                + prop.find(\"value\").text.split(\"/\")[2]\n",
    "            )"
   ]
  },
  {
   "cell_type": "code",
   "execution_count": 6,
   "id": "1c7f5442-236f-4f11-a10e-eb708863ea3e",
   "metadata": {},
   "outputs": [],
   "source": [
    "os.environ[\"STORAGE\"] = storage"
   ]
  },
  {
   "cell_type": "code",
   "execution_count": 7,
   "id": "1f86d633-2816-4970-b930-92889d8a7233",
   "metadata": {},
   "outputs": [
    {
     "name": "stderr",
     "output_type": "stream",
     "text": [
      "Setting spark.hadoop.yarn.resourcemanager.principal to pauldefusco\n"
     ]
    }
   ],
   "source": [
    "spark = SparkSession\\\n",
    "    .builder\\\n",
    "    .appName(\"PythonSQL\")\\\n",
    "    .config(\"spark.hadoop.fs.s3a.s3guard.ddb.region\",\"us-east-2\")\\\n",
    "    .config(\"spark.yarn.access.hadoopFileSystems\",os.environ[\"STORAGE\"])\\\n",
    "    .config(\"spark.rpc.message.maxSize\", \"1024\")\\\n",
    "    .config(\"spark.dynamicAllocation.enabled\", \"true\")\\\n",
    "    .getOrCreate()\n",
    " #   .config(\"spark.driver.cores\", 4)\\\n",
    " #   .config(\"spark.driver.memory\", \"8g\")\\\n",
    "    "
   ]
  },
  {
   "cell_type": "code",
   "execution_count": 8,
   "id": "c901363a-563e-4b90-ba09-3e71d33e34ef",
   "metadata": {},
   "outputs": [
    {
     "name": "stderr",
     "output_type": "stream",
     "text": [
      "                                                                                \r"
     ]
    }
   ],
   "source": [
    "df = spark.read.parquet(os.environ[\"STORAGE\"]+'/cde-workshop/clickthrough/data_large_from_csv',   \n",
    "    header=True,\n",
    "    sep=',',\n",
    "    nullValue='NA')"
   ]
  },
  {
   "cell_type": "code",
   "execution_count": 9,
   "id": "d5917786-f4a8-4016-96f5-67ec4b2772bc",
   "metadata": {},
   "outputs": [
    {
     "name": "stderr",
     "output_type": "stream",
     "text": [
      "                                                                                \r"
     ]
    },
    {
     "data": {
      "text/plain": [
       "[Row(id='8.557257391414261e+18', click='0', hour='2014-10-24 07:00:00', C1='1005', banner_pos='1', site_id='e151e245', site_domain='7e091613', site_category='f028772b', app_id='ecad2386', app_domain='7801e8d9', app_category='07d7df22', device_id='a99f214a', device_ip='f73cf001', device_model='a0f5f879', device_type='1', device_conn_type='0', C14='4687', C15='320', C16='50', C17='423', C18='2', C19='39', C20='100148', C21='32'),\n",
       " Row(id='3.955540169721846e+18', click='1', hour='2014-10-24 09:00:00', C1='1005', banner_pos='0', site_id='1fbe01fe', site_domain='f3845767', site_category='28905ebd', app_id='ecad2386', app_domain='7801e8d9', app_category='07d7df22', device_id='a99f214a', device_ip='aa92a552', device_model='f07e20f8', device_type='1', device_conn_type='2', C14='20108', C15='320', C16='50', C17='2299', C18='2', C19='1319', C20='100084', C21='52')]"
      ]
     },
     "execution_count": 9,
     "metadata": {},
     "output_type": "execute_result"
    }
   ],
   "source": [
    "df.take(2)"
   ]
  },
  {
   "cell_type": "code",
   "execution_count": 10,
   "id": "789e4ac5-ca66-42ec-8436-d5b26ee7e156",
   "metadata": {},
   "outputs": [
    {
     "data": {
      "text/plain": [
       "25"
      ]
     },
     "execution_count": 10,
     "metadata": {},
     "output_type": "execute_result"
    }
   ],
   "source": [
    "df.rdd.getNumPartitions()"
   ]
  },
  {
   "cell_type": "code",
   "execution_count": 11,
   "id": "6f42e5b9-b300-4780-8dbc-bfc2dbe1bf7d",
   "metadata": {},
   "outputs": [
    {
     "data": {
      "text/plain": [
       "[('id', 'string'),\n",
       " ('click', 'string'),\n",
       " ('hour', 'string'),\n",
       " ('C1', 'string'),\n",
       " ('banner_pos', 'string'),\n",
       " ('site_id', 'string'),\n",
       " ('site_domain', 'string'),\n",
       " ('site_category', 'string'),\n",
       " ('app_id', 'string'),\n",
       " ('app_domain', 'string'),\n",
       " ('app_category', 'string'),\n",
       " ('device_id', 'string'),\n",
       " ('device_ip', 'string'),\n",
       " ('device_model', 'string'),\n",
       " ('device_type', 'string'),\n",
       " ('device_conn_type', 'string'),\n",
       " ('C14', 'string'),\n",
       " ('C15', 'string'),\n",
       " ('C16', 'string'),\n",
       " ('C17', 'string'),\n",
       " ('C18', 'string'),\n",
       " ('C19', 'string'),\n",
       " ('C20', 'string'),\n",
       " ('C21', 'string')]"
      ]
     },
     "execution_count": 11,
     "metadata": {},
     "output_type": "execute_result"
    }
   ],
   "source": [
    "df.dtypes"
   ]
  },
  {
   "cell_type": "code",
   "execution_count": 12,
   "id": "d561edc7-7707-4f6f-a07b-16726c0f3da3",
   "metadata": {},
   "outputs": [],
   "source": [
    "#spark.conf.set(\"spark.sql.legacy.timeParserPolicy\", \"LEGACY\")\n",
    "df = df.withColumn(\"converted_date\",df['hour'].cast(TimestampType()))"
   ]
  },
  {
   "cell_type": "code",
   "execution_count": 13,
   "id": "5a35270a-a96b-498d-a8a7-c5d3f9806590",
   "metadata": {},
   "outputs": [],
   "source": [
    "df = df.withColumn('year',F.year(\"converted_date\"))\\\n",
    "            .withColumn('month', F.month(\"converted_date\"))\\\n",
    "            .withColumn('day', F.dayofmonth(\"converted_date\"))\\\n",
    "            .withColumn('dt_hour', F.hour(\"converted_date\"))"
   ]
  },
  {
   "cell_type": "code",
   "execution_count": 14,
   "id": "2b71a09b-fee6-4f52-918f-109140374ccc",
   "metadata": {},
   "outputs": [
    {
     "data": {
      "text/plain": [
       "[('id', 'string'),\n",
       " ('click', 'string'),\n",
       " ('hour', 'string'),\n",
       " ('C1', 'string'),\n",
       " ('banner_pos', 'string'),\n",
       " ('site_id', 'string'),\n",
       " ('site_domain', 'string'),\n",
       " ('site_category', 'string'),\n",
       " ('app_id', 'string'),\n",
       " ('app_domain', 'string'),\n",
       " ('app_category', 'string'),\n",
       " ('device_id', 'string'),\n",
       " ('device_ip', 'string'),\n",
       " ('device_model', 'string'),\n",
       " ('device_type', 'string'),\n",
       " ('device_conn_type', 'string'),\n",
       " ('C14', 'string'),\n",
       " ('C15', 'string'),\n",
       " ('C16', 'string'),\n",
       " ('C17', 'string'),\n",
       " ('C18', 'string'),\n",
       " ('C19', 'string'),\n",
       " ('C20', 'string'),\n",
       " ('C21', 'string'),\n",
       " ('converted_date', 'timestamp'),\n",
       " ('year', 'int'),\n",
       " ('month', 'int'),\n",
       " ('day', 'int'),\n",
       " ('dt_hour', 'int')]"
      ]
     },
     "execution_count": 14,
     "metadata": {},
     "output_type": "execute_result"
    }
   ],
   "source": [
    "df.dtypes"
   ]
  },
  {
   "cell_type": "code",
   "execution_count": 15,
   "id": "fe1b483e-fd4c-4dea-bd52-89610dceff7b",
   "metadata": {},
   "outputs": [],
   "source": [
    "#df.select(F.min('converted_date')).show()"
   ]
  },
  {
   "cell_type": "code",
   "execution_count": 27,
   "id": "1a8fe088-53bd-4816-a4a0-79f55e17cbc0",
   "metadata": {},
   "outputs": [
    {
     "name": "stderr",
     "output_type": "stream",
     "text": [
      "[Stage 5:======================================================>  (24 + 1) / 25]\r"
     ]
    },
    {
     "name": "stdout",
     "output_type": "stream",
     "text": [
      "+-------------------+\n",
      "|max(converted_date)|\n",
      "+-------------------+\n",
      "|2014-10-30 23:00:00|\n",
      "+-------------------+\n",
      "\n"
     ]
    },
    {
     "name": "stderr",
     "output_type": "stream",
     "text": [
      "                                                                                \r"
     ]
    }
   ],
   "source": [
    "df.select(F.max('converted_date')).show()"
   ]
  },
  {
   "cell_type": "code",
   "execution_count": 17,
   "id": "5f364b3b-5906-4a5e-aba4-a9bbbd8a6246",
   "metadata": {},
   "outputs": [],
   "source": [
    "df_original = df.filter(df.converted_date < '2014-10-26 00:00:00')"
   ]
  },
  {
   "cell_type": "code",
   "execution_count": 18,
   "id": "6ad4b1fe-28ef-4ae9-be40-739628e8dbb9",
   "metadata": {},
   "outputs": [],
   "source": [
    "#df_original.count()"
   ]
  },
  {
   "cell_type": "code",
   "execution_count": 19,
   "id": "ec08303f-7741-410f-8a7c-a8234d2fa899",
   "metadata": {},
   "outputs": [],
   "source": [
    "#df_original.select(F.max('day')).show()"
   ]
  },
  {
   "cell_type": "code",
   "execution_count": 17,
   "id": "030f9a69-210f-4ada-b75b-3131765f97ac",
   "metadata": {},
   "outputs": [],
   "source": [
    "#df_original.select(F.min('day')).show()"
   ]
  },
  {
   "cell_type": "code",
   "execution_count": 20,
   "id": "56e6f254-d221-4b53-aff0-9ce81c4444f5",
   "metadata": {},
   "outputs": [
    {
     "name": "stderr",
     "output_type": "stream",
     "text": [
      "[Stage 4:===========>                                               (1 + 2) / 5]\r"
     ]
    }
   ],
   "source": [
    "df_original.repartition('day')\\\n",
    "    .write.mode(\"overwrite\").option(\"header\",\"true\")\\\n",
    "    .parquet(\"s3a://go01-demo/cde-workshop/clickthrough/historical\")"
   ]
  },
  {
   "cell_type": "code",
   "execution_count": null,
   "id": "43ae6691-9fcf-431c-958e-b40f6a9b1f10",
   "metadata": {},
   "outputs": [],
   "source": []
  },
  {
   "cell_type": "code",
   "execution_count": 24,
   "id": "d937473b-397c-411f-b636-5a141fd03f15",
   "metadata": {},
   "outputs": [],
   "source": [
    "df_batch1 = df.filter((df.converted_date >= '2014-10-26 00:00:00') &(df.converted_date < '2014-10-27 00:00:00'))"
   ]
  },
  {
   "cell_type": "code",
   "execution_count": 25,
   "id": "0ad9c744-49d9-4b77-899d-8ca783ef4189",
   "metadata": {},
   "outputs": [],
   "source": [
    "df_batch2 = df.filter((df.converted_date >= '2014-10-27 00:00:00') &(df.converted_date < '2014-10-28 00:00:00'))"
   ]
  },
  {
   "cell_type": "code",
   "execution_count": 26,
   "id": "d66fa3ad-0948-4cc0-9c3e-ec22e4911cba",
   "metadata": {},
   "outputs": [],
   "source": [
    "df_batch3 = df.filter((df.converted_date >= '2014-10-28 00:00:00') &(df.converted_date < '2014-10-29 00:00:00'))"
   ]
  },
  {
   "cell_type": "code",
   "execution_count": 33,
   "id": "13399016-754e-4c93-b8e6-256058974b49",
   "metadata": {},
   "outputs": [],
   "source": [
    "df_batch4 = df.filter((df.converted_date >= '2014-10-29 00:00:00') &(df.converted_date < '2014-10-30 24:00:00'))"
   ]
  },
  {
   "cell_type": "code",
   "execution_count": 29,
   "id": "8f0d7ac7-9ea8-4617-9e1b-d5e0dc7474a8",
   "metadata": {},
   "outputs": [],
   "source": [
    "df_batch1_noise = df_original.sample(fraction=0.25, seed=3)"
   ]
  },
  {
   "cell_type": "code",
   "execution_count": 30,
   "id": "78f933e1-4cfd-4596-8e06-e3406f59f9dc",
   "metadata": {},
   "outputs": [],
   "source": [
    "df_batch2_noise = df_batch1.sample(fraction=0.05, seed=3)"
   ]
  },
  {
   "cell_type": "code",
   "execution_count": 31,
   "id": "c03df9e3-f462-4aec-a6db-d8fb2b148f67",
   "metadata": {},
   "outputs": [],
   "source": [
    "df_batch2_noise_temp = df_original.sample(fraction=0.15, seed=3)"
   ]
  },
  {
   "cell_type": "code",
   "execution_count": 35,
   "id": "a870b2f1-6864-4e14-b241-705f7d98b634",
   "metadata": {},
   "outputs": [],
   "source": [
    "df_batch2_noise = df_batch2_noise.union(df_batch2_noise_temp)"
   ]
  },
  {
   "cell_type": "code",
   "execution_count": 36,
   "id": "11d32647-953e-4a7d-a78a-0e0923752eee",
   "metadata": {},
   "outputs": [],
   "source": [
    "df_batch3_noise = df_batch2.sample(fraction=0.05, seed=3)"
   ]
  },
  {
   "cell_type": "code",
   "execution_count": 37,
   "id": "aafe388d-cf0c-4137-9fd3-3951d03c702e",
   "metadata": {},
   "outputs": [],
   "source": [
    "df_batch2_noise_temp = df_batch1.sample(fraction=0.2, seed=3)"
   ]
  },
  {
   "cell_type": "code",
   "execution_count": 38,
   "id": "ae854f13-3ae9-4ecb-94d9-7999cf6aa9e6",
   "metadata": {},
   "outputs": [],
   "source": [
    "df_batch2_noise_temp_temp = df_original.sample(fraction=0.3, seed=3)"
   ]
  },
  {
   "cell_type": "code",
   "execution_count": 39,
   "id": "729d00ea-1cda-44be-8657-59fc32625b8a",
   "metadata": {},
   "outputs": [],
   "source": [
    "df_batch3_noise = df_batch3_noise.union(df_batch2_noise_temp).union(df_batch2_noise_temp_temp)"
   ]
  },
  {
   "cell_type": "code",
   "execution_count": 40,
   "id": "7f6a8628-c513-4ae1-a9e6-35da635707e1",
   "metadata": {},
   "outputs": [],
   "source": [
    "df_batch4_noise = df_batch1.sample(fraction=0.01, seed=3)"
   ]
  },
  {
   "cell_type": "code",
   "execution_count": 42,
   "id": "993675d3-c3b3-4f72-87cf-792e2ea91a44",
   "metadata": {},
   "outputs": [],
   "source": [
    "df_batch4_noise_temp = df_batch2.sample(fraction=0.1, seed=3)"
   ]
  },
  {
   "cell_type": "code",
   "execution_count": 43,
   "id": "e4e38c17-b3f5-47ec-b47f-9f6c581d81c6",
   "metadata": {},
   "outputs": [],
   "source": [
    "df_batch4_noise_temp_temp = df_batch3.sample(fraction=0.3, seed=3)"
   ]
  },
  {
   "cell_type": "code",
   "execution_count": 44,
   "id": "131edc9d-42a3-4b10-a98a-9bddf64c120b",
   "metadata": {},
   "outputs": [],
   "source": [
    "df_batch4_noise = df_batch4_noise.union(df_batch4_noise_temp).union(df_batch4_noise_temp_temp)"
   ]
  },
  {
   "cell_type": "code",
   "execution_count": null,
   "id": "b3b1aee0-20f2-47c8-995f-be7df84f2e56",
   "metadata": {},
   "outputs": [],
   "source": []
  },
  {
   "cell_type": "code",
   "execution_count": 45,
   "id": "6c57a3ab-a671-4950-87b0-bff38f75786e",
   "metadata": {},
   "outputs": [],
   "source": [
    "df_batch1 = df_batch1.union(df_batch1_noise)"
   ]
  },
  {
   "cell_type": "code",
   "execution_count": 46,
   "id": "3b697883-b95f-4e65-a164-99db0a43185d",
   "metadata": {},
   "outputs": [],
   "source": [
    "df_batch2 = df_batch2.union(df_batch2_noise)"
   ]
  },
  {
   "cell_type": "code",
   "execution_count": 47,
   "id": "98573c96-4efd-4869-9763-8492b8de1788",
   "metadata": {},
   "outputs": [],
   "source": [
    "df_batch3 = df_batch3.union(df_batch3_noise)"
   ]
  },
  {
   "cell_type": "code",
   "execution_count": 48,
   "id": "0b8b9126-2017-4fa8-ad81-9404fd0187c4",
   "metadata": {},
   "outputs": [],
   "source": [
    "df_batch4 = df_batch4.union(df_batch4_noise)"
   ]
  },
  {
   "cell_type": "code",
   "execution_count": null,
   "id": "d55937b2-3357-4b2c-898e-c5919bfd368c",
   "metadata": {},
   "outputs": [],
   "source": []
  },
  {
   "cell_type": "code",
   "execution_count": 49,
   "id": "c2061989-f5c7-4dbc-83f2-814c85acaec3",
   "metadata": {},
   "outputs": [
    {
     "name": "stderr",
     "output_type": "stream",
     "text": [
      "                                                                                \r"
     ]
    },
    {
     "data": {
      "text/plain": [
       "4837610"
      ]
     },
     "execution_count": 49,
     "metadata": {},
     "output_type": "execute_result"
    }
   ],
   "source": [
    "df_batch1.count()"
   ]
  },
  {
   "cell_type": "code",
   "execution_count": 50,
   "id": "92da9aa7-8fa6-4ab3-830f-f8bdcf1f695f",
   "metadata": {},
   "outputs": [
    {
     "name": "stderr",
     "output_type": "stream",
     "text": [
      "                                                                                \r"
     ]
    },
    {
     "data": {
      "text/plain": [
       "9426433"
      ]
     },
     "execution_count": 50,
     "metadata": {},
     "output_type": "execute_result"
    }
   ],
   "source": [
    "df_batch2.count()"
   ]
  },
  {
   "cell_type": "code",
   "execution_count": 51,
   "id": "0c576942-c4db-48fa-8b2c-7f978f0ccb6e",
   "metadata": {},
   "outputs": [
    {
     "name": "stderr",
     "output_type": "stream",
     "text": [
      "                                                                                \r"
     ]
    },
    {
     "data": {
      "text/plain": [
       "12223333"
      ]
     },
     "execution_count": 51,
     "metadata": {},
     "output_type": "execute_result"
    }
   ],
   "source": [
    "df_batch3.count()"
   ]
  },
  {
   "cell_type": "code",
   "execution_count": 52,
   "id": "211a8467-5780-46d9-a0fe-99d3303c7840",
   "metadata": {},
   "outputs": [
    {
     "name": "stderr",
     "output_type": "stream",
     "text": [
      "                                                                                \r"
     ]
    },
    {
     "data": {
      "text/plain": [
       "1945801"
      ]
     },
     "execution_count": 52,
     "metadata": {},
     "output_type": "execute_result"
    }
   ],
   "source": [
    "df_batch4.count()"
   ]
  },
  {
   "cell_type": "code",
   "execution_count": 73,
   "id": "f39e34ea-7dd0-4885-8ec7-bfa612efb80d",
   "metadata": {},
   "outputs": [],
   "source": [
    "df_batch1 = df_batch1.drop(*drop_cols)\n",
    "df_batch2 = df_batch2.drop(*drop_cols)\n",
    "df_batch3 = df_batch3.drop(*drop_cols)\n",
    "df_batch4 = df_batch4.drop(*drop_cols)"
   ]
  },
  {
   "cell_type": "code",
   "execution_count": 74,
   "id": "cc95a992-5cb3-4893-9e08-0bc0426b632c",
   "metadata": {},
   "outputs": [
    {
     "name": "stderr",
     "output_type": "stream",
     "text": [
      "                                                                                \r"
     ]
    }
   ],
   "source": [
    "df_batch1\\\n",
    "    .write.mode(\"overwrite\").option(\"header\",\"true\")\\\n",
    "    .csv(\"s3a://go01-demo/cde-workshop/clickthrough/batch01_csv\")"
   ]
  },
  {
   "cell_type": "code",
   "execution_count": 75,
   "id": "0bdfa946-6b76-4b2d-bbad-6bbdb11f2532",
   "metadata": {},
   "outputs": [
    {
     "name": "stderr",
     "output_type": "stream",
     "text": [
      "                                                                                \r"
     ]
    }
   ],
   "source": [
    "df_batch2\\\n",
    "    .write.mode(\"overwrite\").option(\"header\",\"true\")\\\n",
    "    .csv(\"s3a://go01-demo/cde-workshop/clickthrough/batch02_csv\")"
   ]
  },
  {
   "cell_type": "code",
   "execution_count": 76,
   "id": "d438595d-693c-4bc5-b970-10c72849f969",
   "metadata": {},
   "outputs": [
    {
     "name": "stderr",
     "output_type": "stream",
     "text": [
      "                                                                                \r"
     ]
    }
   ],
   "source": [
    "df_batch3\\\n",
    "    .write.mode(\"overwrite\").option(\"header\",\"true\")\\\n",
    "    .csv(\"s3a://go01-demo/cde-workshop/clickthrough/batch03_csv\")"
   ]
  },
  {
   "cell_type": "code",
   "execution_count": 77,
   "id": "9583d077-fc40-47a7-b15c-ca8a98951e8a",
   "metadata": {},
   "outputs": [
    {
     "name": "stderr",
     "output_type": "stream",
     "text": [
      "                                                                                \r"
     ]
    }
   ],
   "source": [
    "df_batch4\\\n",
    "    .write.mode(\"overwrite\").option(\"header\",\"true\")\\\n",
    "    .csv(\"s3a://go01-demo/cde-workshop/clickthrough/batch04_csv\")"
   ]
  },
  {
   "cell_type": "code",
   "execution_count": 68,
   "id": "18fa783c-00a3-4de7-8e6a-1f0369c53a0f",
   "metadata": {},
   "outputs": [
    {
     "data": {
      "text/plain": [
       "[('id', 'string'),\n",
       " ('click', 'string'),\n",
       " ('hour', 'string'),\n",
       " ('C1', 'string'),\n",
       " ('banner_pos', 'string'),\n",
       " ('site_id', 'string'),\n",
       " ('site_domain', 'string'),\n",
       " ('site_category', 'string'),\n",
       " ('app_id', 'string'),\n",
       " ('app_domain', 'string'),\n",
       " ('app_category', 'string'),\n",
       " ('device_id', 'string'),\n",
       " ('device_ip', 'string'),\n",
       " ('device_model', 'string'),\n",
       " ('device_type', 'string'),\n",
       " ('device_conn_type', 'string'),\n",
       " ('C14', 'string'),\n",
       " ('C15', 'string'),\n",
       " ('C16', 'string'),\n",
       " ('C17', 'string'),\n",
       " ('C18', 'string'),\n",
       " ('C19', 'string'),\n",
       " ('C20', 'string'),\n",
       " ('C21', 'string'),\n",
       " ('converted_date', 'timestamp'),\n",
       " ('year', 'int'),\n",
       " ('month', 'int'),\n",
       " ('day', 'int'),\n",
       " ('dt_hour', 'int')]"
      ]
     },
     "execution_count": 68,
     "metadata": {},
     "output_type": "execute_result"
    }
   ],
   "source": [
    "df_original.dtypes"
   ]
  },
  {
   "cell_type": "code",
   "execution_count": 69,
   "id": "11174ec7-e1fc-46ae-a987-8592b15c9f7f",
   "metadata": {},
   "outputs": [],
   "source": [
    "drop_cols = [\"converted_date\", \"year\", \"month\", \"day\", \"dt_hour\"]"
   ]
  },
  {
   "cell_type": "code",
   "execution_count": 70,
   "id": "7713cfa0-d907-4fc3-a7f2-bd57c1d585ba",
   "metadata": {},
   "outputs": [],
   "source": [
    "df_original = df_original.drop(*drop_cols)"
   ]
  },
  {
   "cell_type": "code",
   "execution_count": 71,
   "id": "96b2be0f-36e1-455d-a6f4-efb832c4d53c",
   "metadata": {},
   "outputs": [
    {
     "data": {
      "text/plain": [
       "[('id', 'string'),\n",
       " ('click', 'string'),\n",
       " ('hour', 'string'),\n",
       " ('C1', 'string'),\n",
       " ('banner_pos', 'string'),\n",
       " ('site_id', 'string'),\n",
       " ('site_domain', 'string'),\n",
       " ('site_category', 'string'),\n",
       " ('app_id', 'string'),\n",
       " ('app_domain', 'string'),\n",
       " ('app_category', 'string'),\n",
       " ('device_id', 'string'),\n",
       " ('device_ip', 'string'),\n",
       " ('device_model', 'string'),\n",
       " ('device_type', 'string'),\n",
       " ('device_conn_type', 'string'),\n",
       " ('C14', 'string'),\n",
       " ('C15', 'string'),\n",
       " ('C16', 'string'),\n",
       " ('C17', 'string'),\n",
       " ('C18', 'string'),\n",
       " ('C19', 'string'),\n",
       " ('C20', 'string'),\n",
       " ('C21', 'string')]"
      ]
     },
     "execution_count": 71,
     "metadata": {},
     "output_type": "execute_result"
    }
   ],
   "source": [
    "df_original.dtypes"
   ]
  },
  {
   "cell_type": "code",
   "execution_count": 72,
   "id": "cd331f4f-ab58-4a8f-b27a-3421b384e6d3",
   "metadata": {},
   "outputs": [
    {
     "name": "stderr",
     "output_type": "stream",
     "text": [
      "                                                                                \r"
     ]
    }
   ],
   "source": [
    "df_original.repartition('day')\\\n",
    "    .write.mode(\"overwrite\").option(\"header\",\"true\")\\\n",
    "    .parquet(\"s3a://go01-demo/cde-workshop/clickthrough/historical\")"
   ]
  },
  {
   "cell_type": "code",
   "execution_count": null,
   "id": "b584900b-44c1-4fa3-a6b3-142b7be8051d",
   "metadata": {},
   "outputs": [],
   "source": []
  },
  {
   "cell_type": "code",
   "execution_count": null,
   "id": "8befe66b-412e-4f5d-8d8f-f6b801d0bfbf",
   "metadata": {},
   "outputs": [],
   "source": []
  },
  {
   "cell_type": "code",
   "execution_count": null,
   "id": "8ceca8c8-c23e-4ac9-96c0-8df3185f923a",
   "metadata": {},
   "outputs": [],
   "source": [
    "#sparkDF.write\\\n",
    "# .option(\"header\",\"true\")\\\n",
    "# .parquet(\"s3a://go01-demo/cde-workshop/clickthrough\")"
   ]
  }
 ],
 "metadata": {
  "kernelspec": {
   "display_name": "Python 3 (ipykernel)",
   "language": "python",
   "name": "python3"
  },
  "language_info": {
   "codemirror_mode": {
    "name": "ipython",
    "version": 3
   },
   "file_extension": ".py",
   "mimetype": "text/x-python",
   "name": "python",
   "nbconvert_exporter": "python",
   "pygments_lexer": "ipython3",
   "version": "3.7.13"
  }
 },
 "nbformat": 4,
 "nbformat_minor": 5
}
