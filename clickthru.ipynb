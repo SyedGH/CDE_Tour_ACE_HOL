{
 "cells": [
  {
   "cell_type": "code",
   "execution_count": 2,
   "id": "99f30eb1-7732-481b-8666-ad561c022767",
   "metadata": {},
   "outputs": [],
   "source": [
    "#!pip3 install pandas\n",
    "#!pip3 install PyArrow\n",
    "from pyspark.sql.functions import col\n",
    "import os"
   ]
  },
  {
   "cell_type": "code",
   "execution_count": 3,
   "id": "788ca831-d2f8-4126-9282-2a8be6e9845c",
   "metadata": {},
   "outputs": [],
   "source": [
    "#df = pd.read_csv(\"train.gz\")"
   ]
  },
  {
   "cell_type": "code",
   "execution_count": 4,
   "id": "dd78ba56-7cc8-4dc1-91c4-710b6c2b3396",
   "metadata": {},
   "outputs": [],
   "source": [
    "from pyspark.sql import SparkSession\n",
    "from pyspark.sql import functions as F"
   ]
  },
  {
   "cell_type": "code",
   "execution_count": 5,
   "id": "3aea7c39-5e94-4b61-83bd-c8b1b55a7514",
   "metadata": {},
   "outputs": [],
   "source": [
    "from IPython.display import Javascript, HTML\n",
    "import os\n",
    "import time\n",
    "import json\n",
    "import requests\n",
    "import xml.etree.ElementTree as ET\n",
    "import datetime\n",
    "import subprocess"
   ]
  },
  {
   "cell_type": "code",
   "execution_count": 6,
   "id": "abac79a2-8d51-429b-939d-f7f16bae4846",
   "metadata": {},
   "outputs": [],
   "source": [
    "if os.path.exists(\"/etc/hadoop/conf/hive-site.xml\"):\n",
    "    tree = ET.parse(\"/etc/hadoop/conf/hive-site.xml\")\n",
    "    root = tree.getroot()\n",
    "    for prop in root.findall(\"property\"):\n",
    "        if prop.find(\"name\").text == \"hive.metastore.warehouse.dir\":\n",
    "            storage = (\n",
    "                prop.find(\"value\").text.split(\"/\")[0]\n",
    "                + \"//\"\n",
    "                + prop.find(\"value\").text.split(\"/\")[2]\n",
    "            )"
   ]
  },
  {
   "cell_type": "code",
   "execution_count": 7,
   "id": "1c7f5442-236f-4f11-a10e-eb708863ea3e",
   "metadata": {},
   "outputs": [],
   "source": [
    "os.environ[\"STORAGE\"] = storage"
   ]
  },
  {
   "cell_type": "code",
   "execution_count": 8,
   "id": "1f86d633-2816-4970-b930-92889d8a7233",
   "metadata": {},
   "outputs": [
    {
     "name": "stderr",
     "output_type": "stream",
     "text": [
      "Setting spark.hadoop.yarn.resourcemanager.principal to pauldefusco\n"
     ]
    }
   ],
   "source": [
    "spark = SparkSession\\\n",
    "    .builder\\\n",
    "    .appName(\"PythonSQL\")\\\n",
    "    .config(\"spark.hadoop.fs.s3a.s3guard.ddb.region\",\"us-east-2\")\\\n",
    "    .config(\"spark.yarn.access.hadoopFileSystems\",os.environ[\"STORAGE\"])\\\n",
    "    .config(\"spark.rpc.message.maxSize\", \"1024\")\\\n",
    "    .config(\"spark.dynamicAllocation.enabled\", \"true\")\\\n",
    "    .config(\"spark.sql.execution.arrow.pyspark.enabled\", \"true\")\\\n",
    "    .config(\"spark.driver.cores\", 4)\\\n",
    "    .config(\"spark.driver.memory\", \"8g\")\\\n",
    "    .getOrCreate()"
   ]
  },
  {
   "cell_type": "code",
   "execution_count": 9,
   "id": "c901363a-563e-4b90-ba09-3e71d33e34ef",
   "metadata": {},
   "outputs": [
    {
     "name": "stderr",
     "output_type": "stream",
     "text": [
      "                                                                                \r"
     ]
    }
   ],
   "source": [
    "df = spark.read.parquet(os.environ[\"STORAGE\"]+'/cde-workshop/clickthrough/data_large_from_csv',   \n",
    "    header=True,\n",
    "    sep=',',\n",
    "    nullValue='NA')"
   ]
  },
  {
   "cell_type": "code",
   "execution_count": 10,
   "id": "d5917786-f4a8-4016-96f5-67ec4b2772bc",
   "metadata": {},
   "outputs": [
    {
     "name": "stderr",
     "output_type": "stream",
     "text": [
      "                                                                                \r"
     ]
    },
    {
     "data": {
      "text/plain": [
       "[Row(id='8.557257391414261e+18', click='0', hour='2014-10-24 07:00:00', C1='1005', banner_pos='1', site_id='e151e245', site_domain='7e091613', site_category='f028772b', app_id='ecad2386', app_domain='7801e8d9', app_category='07d7df22', device_id='a99f214a', device_ip='f73cf001', device_model='a0f5f879', device_type='1', device_conn_type='0', C14='4687', C15='320', C16='50', C17='423', C18='2', C19='39', C20='100148', C21='32'),\n",
       " Row(id='3.955540169721846e+18', click='1', hour='2014-10-24 09:00:00', C1='1005', banner_pos='0', site_id='1fbe01fe', site_domain='f3845767', site_category='28905ebd', app_id='ecad2386', app_domain='7801e8d9', app_category='07d7df22', device_id='a99f214a', device_ip='aa92a552', device_model='f07e20f8', device_type='1', device_conn_type='2', C14='20108', C15='320', C16='50', C17='2299', C18='2', C19='1319', C20='100084', C21='52')]"
      ]
     },
     "execution_count": 10,
     "metadata": {},
     "output_type": "execute_result"
    }
   ],
   "source": [
    "df.take(2)"
   ]
  },
  {
   "cell_type": "code",
   "execution_count": 11,
   "id": "789e4ac5-ca66-42ec-8436-d5b26ee7e156",
   "metadata": {},
   "outputs": [
    {
     "data": {
      "text/plain": [
       "25"
      ]
     },
     "execution_count": 11,
     "metadata": {},
     "output_type": "execute_result"
    }
   ],
   "source": [
    "df.rdd.getNumPartitions()"
   ]
  },
  {
   "cell_type": "code",
   "execution_count": 12,
   "id": "6f42e5b9-b300-4780-8dbc-bfc2dbe1bf7d",
   "metadata": {},
   "outputs": [
    {
     "data": {
      "text/plain": [
       "[('id', 'string'),\n",
       " ('click', 'string'),\n",
       " ('hour', 'string'),\n",
       " ('C1', 'string'),\n",
       " ('banner_pos', 'string'),\n",
       " ('site_id', 'string'),\n",
       " ('site_domain', 'string'),\n",
       " ('site_category', 'string'),\n",
       " ('app_id', 'string'),\n",
       " ('app_domain', 'string'),\n",
       " ('app_category', 'string'),\n",
       " ('device_id', 'string'),\n",
       " ('device_ip', 'string'),\n",
       " ('device_model', 'string'),\n",
       " ('device_type', 'string'),\n",
       " ('device_conn_type', 'string'),\n",
       " ('C14', 'string'),\n",
       " ('C15', 'string'),\n",
       " ('C16', 'string'),\n",
       " ('C17', 'string'),\n",
       " ('C18', 'string'),\n",
       " ('C19', 'string'),\n",
       " ('C20', 'string'),\n",
       " ('C21', 'string')]"
      ]
     },
     "execution_count": 12,
     "metadata": {},
     "output_type": "execute_result"
    }
   ],
   "source": [
    "df.dtypes"
   ]
  },
  {
   "cell_type": "code",
   "execution_count": 13,
   "id": "d561edc7-7707-4f6f-a07b-16726c0f3da3",
   "metadata": {},
   "outputs": [
    {
     "ename": "NameError",
     "evalue": "name 'TimestampType' is not defined",
     "output_type": "error",
     "traceback": [
      "\u001b[0;31m---------------------------------------------------------------------------\u001b[0m",
      "\u001b[0;31mNameError\u001b[0m                                 Traceback (most recent call last)",
      "\u001b[0;32m/tmp/ipykernel_202/3763740124.py\u001b[0m in \u001b[0;36m<module>\u001b[0;34m\u001b[0m\n\u001b[1;32m      1\u001b[0m \u001b[0;31m#spark.conf.set(\"spark.sql.legacy.timeParserPolicy\", \"LEGACY\")\u001b[0m\u001b[0;34m\u001b[0m\u001b[0;34m\u001b[0m\u001b[0;34m\u001b[0m\u001b[0m\n\u001b[0;32m----> 2\u001b[0;31m \u001b[0mdf\u001b[0m \u001b[0;34m=\u001b[0m \u001b[0mdf\u001b[0m\u001b[0;34m.\u001b[0m\u001b[0mwithColumn\u001b[0m\u001b[0;34m(\u001b[0m\u001b[0;34m\"converted_date\"\u001b[0m\u001b[0;34m,\u001b[0m\u001b[0mdf\u001b[0m\u001b[0;34m[\u001b[0m\u001b[0;34m'hour'\u001b[0m\u001b[0;34m]\u001b[0m\u001b[0;34m.\u001b[0m\u001b[0mcast\u001b[0m\u001b[0;34m(\u001b[0m\u001b[0mTimestampType\u001b[0m\u001b[0;34m(\u001b[0m\u001b[0;34m)\u001b[0m\u001b[0;34m)\u001b[0m\u001b[0;34m)\u001b[0m\u001b[0;34m\u001b[0m\u001b[0;34m\u001b[0m\u001b[0m\n\u001b[0m",
      "\u001b[0;31mNameError\u001b[0m: name 'TimestampType' is not defined"
     ]
    }
   ],
   "source": [
    "#spark.conf.set(\"spark.sql.legacy.timeParserPolicy\", \"LEGACY\")\n",
    "df = df.withColumn(\"converted_date\",df['hour'].cast(TimestampType()))"
   ]
  },
  {
   "cell_type": "code",
   "execution_count": null,
   "id": "5a35270a-a96b-498d-a8a7-c5d3f9806590",
   "metadata": {},
   "outputs": [],
   "source": [
    "df = df.withColumn('year',F.year(\"converted_date\"))\\\n",
    "            .withColumn('month', F.month(\"converted_date\"))\\\n",
    "            .withColumn('day', F.dayofmonth(\"converted_date\"))\\\n",
    "            .withColumn('dt_hour', F.hour(\"converted_date\"))"
   ]
  },
  {
   "cell_type": "code",
   "execution_count": null,
   "id": "2b71a09b-fee6-4f52-918f-109140374ccc",
   "metadata": {},
   "outputs": [],
   "source": [
    "df.dtypes"
   ]
  },
  {
   "cell_type": "code",
   "execution_count": null,
   "id": "fe1b483e-fd4c-4dea-bd52-89610dceff7b",
   "metadata": {},
   "outputs": [],
   "source": []
  },
  {
   "cell_type": "code",
   "execution_count": null,
   "id": "1a8fe088-53bd-4816-a4a0-79f55e17cbc0",
   "metadata": {},
   "outputs": [],
   "source": []
  },
  {
   "cell_type": "code",
   "execution_count": null,
   "id": "5f364b3b-5906-4a5e-aba4-a9bbbd8a6246",
   "metadata": {},
   "outputs": [],
   "source": []
  },
  {
   "cell_type": "code",
   "execution_count": null,
   "id": "6ad4b1fe-28ef-4ae9-be40-739628e8dbb9",
   "metadata": {},
   "outputs": [],
   "source": []
  },
  {
   "cell_type": "code",
   "execution_count": null,
   "id": "56e6f254-d221-4b53-aff0-9ce81c4444f5",
   "metadata": {},
   "outputs": [],
   "source": []
  },
  {
   "cell_type": "code",
   "execution_count": null,
   "id": "5a5bdace-52d8-472c-8f57-d25edcb063c5",
   "metadata": {},
   "outputs": [],
   "source": []
  },
  {
   "cell_type": "code",
   "execution_count": null,
   "id": "43ae6691-9fcf-431c-958e-b40f6a9b1f10",
   "metadata": {},
   "outputs": [],
   "source": []
  },
  {
   "cell_type": "code",
   "execution_count": null,
   "id": "d937473b-397c-411f-b636-5a141fd03f15",
   "metadata": {},
   "outputs": [],
   "source": []
  },
  {
   "cell_type": "code",
   "execution_count": null,
   "id": "0ad9c744-49d9-4b77-899d-8ca783ef4189",
   "metadata": {},
   "outputs": [],
   "source": []
  },
  {
   "cell_type": "code",
   "execution_count": null,
   "id": "8ceca8c8-c23e-4ac9-96c0-8df3185f923a",
   "metadata": {},
   "outputs": [],
   "source": [
    "#sparkDF.write\\\n",
    "# .option(\"header\",\"true\")\\\n",
    "# .parquet(\"s3a://go01-demo/cde-workshop/clickthrough\")"
   ]
  }
 ],
 "metadata": {
  "kernelspec": {
   "display_name": "Python 3 (ipykernel)",
   "language": "python",
   "name": "python3"
  },
  "language_info": {
   "codemirror_mode": {
    "name": "ipython",
    "version": 3
   },
   "file_extension": ".py",
   "mimetype": "text/x-python",
   "name": "python",
   "nbconvert_exporter": "python",
   "pygments_lexer": "ipython3",
   "version": "3.7.13"
  }
 },
 "nbformat": 4,
 "nbformat_minor": 5
}
