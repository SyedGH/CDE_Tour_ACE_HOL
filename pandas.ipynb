{
 "cells": [
  {
   "cell_type": "code",
   "execution_count": 3,
   "id": "61377d26-2694-4fac-9dc3-c7b450b45e36",
   "metadata": {},
   "outputs": [
    {
     "name": "stdout",
     "output_type": "stream",
     "text": [
      "Requirement already satisfied: pandas in ./.local/lib/python3.7/site-packages (1.3.5)\n",
      "Requirement already satisfied: pytz>=2017.3 in /runtime-addons/cmladdon-python-2.0.32-b123/opt/cmladdons/python/site-packages (from pandas) (2022.4)\n",
      "Requirement already satisfied: python-dateutil>=2.7.3 in /runtime-addons/cmladdon-python-2.0.32-b123/opt/cmladdons/python/site-packages (from pandas) (2.8.2)\n",
      "Requirement already satisfied: numpy>=1.17.3 in /usr/local/lib/python3.7/site-packages (from pandas) (1.19.4)\n",
      "Requirement already satisfied: six>=1.5 in /runtime-addons/cmladdon-python-2.0.32-b123/opt/cmladdons/python/site-packages (from python-dateutil>=2.7.3->pandas) (1.16.0)\n"
     ]
    }
   ],
   "source": [
    "!pip3 install pandas\n",
    "import pandas as pd"
   ]
  },
  {
   "cell_type": "code",
   "execution_count": 4,
   "id": "7072dffc-f172-4801-bc4a-b7722267bea9",
   "metadata": {},
   "outputs": [],
   "source": [
    "car_sales_df = pd.read_csv(\"data/car_sales.csv\")"
   ]
  },
  {
   "cell_type": "code",
   "execution_count": 6,
   "id": "fafa2ec3-bb2b-479a-8140-a28195b74210",
   "metadata": {},
   "outputs": [
    {
     "data": {
      "text/plain": [
       "customer_id      int64\n",
       "model           object\n",
       "saleprice      float64\n",
       "sale_date       object\n",
       "VIN             object\n",
       "dtype: object"
      ]
     },
     "execution_count": 6,
     "metadata": {},
     "output_type": "execute_result"
    }
   ],
   "source": [
    "car_sales_df.dtypes"
   ]
  },
  {
   "cell_type": "code",
   "execution_count": 10,
   "id": "6053c721-6084-43ee-a0b9-e02ddb1c0ec7",
   "metadata": {},
   "outputs": [],
   "source": [
    "car_sales_df[\"sale_date\"] = pd.to_datetime(car_sales_df.sale_date, infer_datetime_format=True)"
   ]
  },
  {
   "cell_type": "code",
   "execution_count": 12,
   "id": "3a100c0c-a670-4e68-8319-879ef09d2318",
   "metadata": {},
   "outputs": [],
   "source": [
    "car_sales_df = car_sales_df.sort_values(by=\"sale_date\")"
   ]
  },
  {
   "cell_type": "code",
   "execution_count": 20,
   "id": "1e98b5af-5a4f-47de-8de9-9cd249511fe7",
   "metadata": {},
   "outputs": [],
   "source": [
    "car_sales_df_historical = car_sales_df[car_sales_df[\"sale_date\"] < \"07-01-2020\"]"
   ]
  },
  {
   "cell_type": "code",
   "execution_count": 23,
   "id": "cd60fb2b-66b1-40e7-b4ec-3bf2db507bbd",
   "metadata": {},
   "outputs": [],
   "source": [
    "car_sales_df_batch_1 = car_sales_df[(car_sales_df[\"sale_date\"] > \"07-01-2020\") & (car_sales_df[\"sale_date\"] < \"10-01-2020\")]"
   ]
  },
  {
   "cell_type": "code",
   "execution_count": 24,
   "id": "59183115-26be-4028-8d2e-1fca67d14dc4",
   "metadata": {},
   "outputs": [],
   "source": [
    "car_sales_df_batch_2 = car_sales_df[(car_sales_df[\"sale_date\"] > \"10-01-2020\")]"
   ]
  },
  {
   "cell_type": "code",
   "execution_count": 34,
   "id": "ca361d28-6223-4d89-aabf-5db5119c77e6",
   "metadata": {},
   "outputs": [],
   "source": [
    "car_sales_df_historical.to_csv(\"data/historical_car_sales.csv\", index=False)"
   ]
  },
  {
   "cell_type": "code",
   "execution_count": 35,
   "id": "30d5d755-f162-4c40-96c2-9e36c42a78cf",
   "metadata": {},
   "outputs": [],
   "source": [
    "car_sales_df_batch_1.to_csv(\"data/10012020_car_sales.csv\", index=False)"
   ]
  },
  {
   "cell_type": "code",
   "execution_count": 36,
   "id": "f10a2418-c956-46cc-b9b4-4ecafee0c97a",
   "metadata": {},
   "outputs": [],
   "source": [
    "car_sales_df_batch_2.to_csv(\"data/12312020_car_sales.csv\", index=False)"
   ]
  },
  {
   "cell_type": "code",
   "execution_count": 37,
   "id": "653156c7-9370-4728-bfb1-921a2d5e19f5",
   "metadata": {},
   "outputs": [
    {
     "data": {
      "text/plain": [
       "Index(['customer_id', 'model', 'saleprice', 'sale_date', 'VIN'], dtype='object')"
      ]
     },
     "execution_count": 37,
     "metadata": {},
     "output_type": "execute_result"
    }
   ],
   "source": [
    "car_sales_df_historical.columns"
   ]
  },
  {
   "cell_type": "code",
   "execution_count": 45,
   "id": "0e0581f0-c3c5-40b6-901d-38d251571b5d",
   "metadata": {},
   "outputs": [],
   "source": [
    "username= 'test_user'"
   ]
  },
  {
   "cell_type": "code",
   "execution_count": 42,
   "id": "5002b3c4-58e3-446c-8561-a59ce51702af",
   "metadata": {},
   "outputs": [],
   "source": [
    "from pyspark.sql import SparkSession\n",
    "import pyspark.sql.functions as F\n",
    "from pyspark.sql.types import *\n",
    "import sys\n",
    "\n",
    "data_lake_name = \"s3a://go01-demo/\"\n",
    "\n",
    "# Your Username Here:\n",
    "username = \"user\"\n",
    "\n",
    "spark = SparkSession \\\n",
    "    .builder \\\n",
    "    .appName(\"Car Sales Report\") \\\n",
    "    .config(\"spark.sql.catalog.spark_catalog\", \"org.apache.iceberg.spark.SparkSessionCatalog\")\\\n",
    "    .config(\"spark.sql.adaptive.enabled\", \"false\")\\\n",
    "    .config(\"spark.yarn.access.hadoopFileSystems\", data_lake_name)\\\n",
    "    .getOrCreate()"
   ]
  },
  {
   "cell_type": "code",
   "execution_count": 44,
   "id": "04463a19-6792-42d5-b12f-3efc85e0eb9e",
   "metadata": {},
   "outputs": [
    {
     "name": "stderr",
     "output_type": "stream",
     "text": [
      "                                                                                \r"
     ]
    }
   ],
   "source": [
    "car_sales = spark.read.csv(\"data/car_sales.csv\", header=True, inferSchema=True)"
   ]
  },
  {
   "cell_type": "code",
   "execution_count": 51,
   "id": "c4bf90a2-3b00-4a31-b58e-a645179ef178",
   "metadata": {},
   "outputs": [
    {
     "data": {
      "text/plain": [
       "[('customer_id', 'int'),\n",
       " ('model', 'string'),\n",
       " ('saleprice', 'double'),\n",
       " ('sale_date', 'string'),\n",
       " ('VIN', 'string')]"
      ]
     },
     "execution_count": 51,
     "metadata": {},
     "output_type": "execute_result"
    }
   ],
   "source": [
    "car_sales.dtypes"
   ]
  },
  {
   "cell_type": "code",
   "execution_count": 56,
   "id": "8251b8ff-b85e-4502-98c3-55d3f542b4e6",
   "metadata": {},
   "outputs": [
    {
     "data": {
      "text/plain": [
       "10000"
      ]
     },
     "execution_count": 56,
     "metadata": {},
     "output_type": "execute_result"
    }
   ],
   "source": [
    "car_sales.select(\"customer_id\").tail(1)[0][0]"
   ]
  },
  {
   "cell_type": "code",
   "execution_count": 57,
   "id": "8d361db7-9273-4844-ac2b-5d4fa08e8f02",
   "metadata": {},
   "outputs": [
    {
     "data": {
      "text/plain": [
       "1"
      ]
     },
     "execution_count": 57,
     "metadata": {},
     "output_type": "execute_result"
    }
   ],
   "source": [
    "car_sales.select(\"customer_id\").head(1)[0][0]"
   ]
  },
  {
   "cell_type": "code",
   "execution_count": null,
   "id": "a4a82135-66bb-408d-892d-fa09f3511a03",
   "metadata": {},
   "outputs": [],
   "source": []
  },
  {
   "cell_type": "code",
   "execution_count": 47,
   "id": "fa8cf6fe-8435-41b6-871b-e0097c6cf3cf",
   "metadata": {},
   "outputs": [
    {
     "name": "stdout",
     "output_type": "stream",
     "text": [
      "JOB STARTED...\n",
      "\tDROP DATABASE(S) COMPLETED\n",
      "\tCREATE DATABASE(S) COMPLETED\n"
     ]
    }
   ],
   "source": [
    "#---------------------------------------------------\n",
    "#       SQL CLEANUP: DATABASES, TABLES, VIEWS\n",
    "#---------------------------------------------------\n",
    "print(\"JOB STARTED...\")\n",
    "spark.sql(\"DROP DATABASE IF EXISTS {}_CAR_DATA CASCADE\".format(username))\n",
    "print(\"\\tDROP DATABASE(S) COMPLETED\")\n",
    "\n",
    "##---------------------------------------------------\n",
    "##                 CREATE DATABASES\n",
    "##---------------------------------------------------\n",
    "spark.sql(\"CREATE DATABASE {}_CAR_DATA\".format(username))\n",
    "print(\"\\tCREATE DATABASE(S) COMPLETED\")"
   ]
  },
  {
   "cell_type": "code",
   "execution_count": 48,
   "id": "ddf24c31-a711-404b-bb2a-0a0c4ca00e2a",
   "metadata": {},
   "outputs": [
    {
     "name": "stderr",
     "output_type": "stream",
     "text": [
      "                                                                                \r"
     ]
    }
   ],
   "source": [
    "car_sales.write.mode(\"overwrite\").saveAsTable('{}_CAR_DATA.CAR_SALES'.format(username), format=\"parquet\")"
   ]
  },
  {
   "cell_type": "code",
   "execution_count": 49,
   "id": "fbf3e01b-b35e-431e-8549-2fb8b230a2d6",
   "metadata": {},
   "outputs": [
    {
     "ename": "AnalysisException",
     "evalue": "DROP COLUMN is only supported with v2 tables.",
     "output_type": "error",
     "traceback": [
      "\u001b[0;31m---------------------------------------------------------------------------\u001b[0m",
      "\u001b[0;31mAnalysisException\u001b[0m                         Traceback (most recent call last)",
      "\u001b[0;32m/tmp/ipykernel_253/3347777243.py\u001b[0m in \u001b[0;36m<module>\u001b[0;34m\u001b[0m\n\u001b[0;32m----> 1\u001b[0;31m \u001b[0mspark\u001b[0m\u001b[0;34m.\u001b[0m\u001b[0msql\u001b[0m\u001b[0;34m(\u001b[0m\u001b[0;34m\"ALTER TABLE {}_CAR_DATA.CAR_SALES DROP COLUMN CUSTOMER_ID\"\u001b[0m\u001b[0;34m.\u001b[0m\u001b[0mformat\u001b[0m\u001b[0;34m(\u001b[0m\u001b[0musername\u001b[0m\u001b[0;34m)\u001b[0m\u001b[0;34m)\u001b[0m\u001b[0;34m\u001b[0m\u001b[0;34m\u001b[0m\u001b[0m\n\u001b[0m",
      "\u001b[0;32m/opt/spark/python/lib/pyspark.zip/pyspark/sql/session.py\u001b[0m in \u001b[0;36msql\u001b[0;34m(self, sqlQuery)\u001b[0m\n\u001b[1;32m    721\u001b[0m         \u001b[0;34m[\u001b[0m\u001b[0mRow\u001b[0m\u001b[0;34m(\u001b[0m\u001b[0mf1\u001b[0m\u001b[0;34m=\u001b[0m\u001b[0;36m1\u001b[0m\u001b[0;34m,\u001b[0m \u001b[0mf2\u001b[0m\u001b[0;34m=\u001b[0m\u001b[0;34m'row1'\u001b[0m\u001b[0;34m)\u001b[0m\u001b[0;34m,\u001b[0m \u001b[0mRow\u001b[0m\u001b[0;34m(\u001b[0m\u001b[0mf1\u001b[0m\u001b[0;34m=\u001b[0m\u001b[0;36m2\u001b[0m\u001b[0;34m,\u001b[0m \u001b[0mf2\u001b[0m\u001b[0;34m=\u001b[0m\u001b[0;34m'row2'\u001b[0m\u001b[0;34m)\u001b[0m\u001b[0;34m,\u001b[0m \u001b[0mRow\u001b[0m\u001b[0;34m(\u001b[0m\u001b[0mf1\u001b[0m\u001b[0;34m=\u001b[0m\u001b[0;36m3\u001b[0m\u001b[0;34m,\u001b[0m \u001b[0mf2\u001b[0m\u001b[0;34m=\u001b[0m\u001b[0;34m'row3'\u001b[0m\u001b[0;34m)\u001b[0m\u001b[0;34m]\u001b[0m\u001b[0;34m\u001b[0m\u001b[0;34m\u001b[0m\u001b[0m\n\u001b[1;32m    722\u001b[0m         \"\"\"\n\u001b[0;32m--> 723\u001b[0;31m         \u001b[0;32mreturn\u001b[0m \u001b[0mDataFrame\u001b[0m\u001b[0;34m(\u001b[0m\u001b[0mself\u001b[0m\u001b[0;34m.\u001b[0m\u001b[0m_jsparkSession\u001b[0m\u001b[0;34m.\u001b[0m\u001b[0msql\u001b[0m\u001b[0;34m(\u001b[0m\u001b[0msqlQuery\u001b[0m\u001b[0;34m)\u001b[0m\u001b[0;34m,\u001b[0m \u001b[0mself\u001b[0m\u001b[0;34m.\u001b[0m\u001b[0m_wrapped\u001b[0m\u001b[0;34m)\u001b[0m\u001b[0;34m\u001b[0m\u001b[0;34m\u001b[0m\u001b[0m\n\u001b[0m\u001b[1;32m    724\u001b[0m \u001b[0;34m\u001b[0m\u001b[0m\n\u001b[1;32m    725\u001b[0m     \u001b[0;32mdef\u001b[0m \u001b[0mtable\u001b[0m\u001b[0;34m(\u001b[0m\u001b[0mself\u001b[0m\u001b[0;34m,\u001b[0m \u001b[0mtableName\u001b[0m\u001b[0;34m)\u001b[0m\u001b[0;34m:\u001b[0m\u001b[0;34m\u001b[0m\u001b[0;34m\u001b[0m\u001b[0m\n",
      "\u001b[0;32m/usr/local/lib/python3.7/site-packages/py4j/java_gateway.py\u001b[0m in \u001b[0;36m__call__\u001b[0;34m(self, *args)\u001b[0m\n\u001b[1;32m   1303\u001b[0m         \u001b[0manswer\u001b[0m \u001b[0;34m=\u001b[0m \u001b[0mself\u001b[0m\u001b[0;34m.\u001b[0m\u001b[0mgateway_client\u001b[0m\u001b[0;34m.\u001b[0m\u001b[0msend_command\u001b[0m\u001b[0;34m(\u001b[0m\u001b[0mcommand\u001b[0m\u001b[0;34m)\u001b[0m\u001b[0;34m\u001b[0m\u001b[0;34m\u001b[0m\u001b[0m\n\u001b[1;32m   1304\u001b[0m         return_value = get_return_value(\n\u001b[0;32m-> 1305\u001b[0;31m             answer, self.gateway_client, self.target_id, self.name)\n\u001b[0m\u001b[1;32m   1306\u001b[0m \u001b[0;34m\u001b[0m\u001b[0m\n\u001b[1;32m   1307\u001b[0m         \u001b[0;32mfor\u001b[0m \u001b[0mtemp_arg\u001b[0m \u001b[0;32min\u001b[0m \u001b[0mtemp_args\u001b[0m\u001b[0;34m:\u001b[0m\u001b[0;34m\u001b[0m\u001b[0;34m\u001b[0m\u001b[0m\n",
      "\u001b[0;32m/opt/spark/python/lib/pyspark.zip/pyspark/sql/utils.py\u001b[0m in \u001b[0;36mdeco\u001b[0;34m(*a, **kw)\u001b[0m\n\u001b[1;32m    115\u001b[0m                 \u001b[0;31m# Hide where the exception came from that shows a non-Pythonic\u001b[0m\u001b[0;34m\u001b[0m\u001b[0;34m\u001b[0m\u001b[0;34m\u001b[0m\u001b[0m\n\u001b[1;32m    116\u001b[0m                 \u001b[0;31m# JVM exception message.\u001b[0m\u001b[0;34m\u001b[0m\u001b[0;34m\u001b[0m\u001b[0;34m\u001b[0m\u001b[0m\n\u001b[0;32m--> 117\u001b[0;31m                 \u001b[0;32mraise\u001b[0m \u001b[0mconverted\u001b[0m \u001b[0;32mfrom\u001b[0m \u001b[0;32mNone\u001b[0m\u001b[0;34m\u001b[0m\u001b[0;34m\u001b[0m\u001b[0m\n\u001b[0m\u001b[1;32m    118\u001b[0m             \u001b[0;32melse\u001b[0m\u001b[0;34m:\u001b[0m\u001b[0;34m\u001b[0m\u001b[0;34m\u001b[0m\u001b[0m\n\u001b[1;32m    119\u001b[0m                 \u001b[0;32mraise\u001b[0m\u001b[0;34m\u001b[0m\u001b[0;34m\u001b[0m\u001b[0m\n",
      "\u001b[0;31mAnalysisException\u001b[0m: DROP COLUMN is only supported with v2 tables."
     ]
    }
   ],
   "source": [
    "spark.sql(\"ALTER TABLE {}_CAR_DATA.CAR_SALES DROP COLUMN CUSTOMER_ID\".format(username))"
   ]
  },
  {
   "cell_type": "code",
   "execution_count": null,
   "id": "fadc465e-3d95-40b4-a76b-3a9c37e36f5f",
   "metadata": {},
   "outputs": [],
   "source": []
  },
  {
   "cell_type": "code",
   "execution_count": null,
   "id": "029193f3-7c88-4270-98bf-43284db6e9e7",
   "metadata": {},
   "outputs": [],
   "source": [
    "#---------------------------------------------------\n",
    "#               LOAD ICEBERG TABLES AS DATAFRAMES\n",
    "#---------------------------------------------------\n",
    "car_sales_df = spark.sql(\"SELECT * FROM spark_catalog.{}_CAR_DATA.CAR_SALES\".format(username))"
   ]
  }
 ],
 "metadata": {
  "kernelspec": {
   "display_name": "Python 3 (ipykernel)",
   "language": "python",
   "name": "python3"
  },
  "language_info": {
   "codemirror_mode": {
    "name": "ipython",
    "version": 3
   },
   "file_extension": ".py",
   "mimetype": "text/x-python",
   "name": "python",
   "nbconvert_exporter": "python",
   "pygments_lexer": "ipython3",
   "version": "3.7.13"
  }
 },
 "nbformat": 4,
 "nbformat_minor": 5
}
