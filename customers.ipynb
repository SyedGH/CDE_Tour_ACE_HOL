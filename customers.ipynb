{
 "cells": [
  {
   "cell_type": "code",
   "execution_count": 1,
   "id": "b97d3e90-78d4-45c2-9ac0-77fb7afb67dd",
   "metadata": {},
   "outputs": [],
   "source": [
    "#!pip3 install pandas\n",
    "#!pip3 install PyArrow\n",
    "from pyspark.sql.functions import col"
   ]
  },
  {
   "cell_type": "code",
   "execution_count": 2,
   "id": "dc05b817-b158-4e24-be1b-eff1fc97932a",
   "metadata": {},
   "outputs": [],
   "source": [
    "from pyspark.sql import SparkSession\n",
    "from pyspark.sql import functions as F\n",
    "from pyspark.sql.types import TimestampType"
   ]
  },
  {
   "cell_type": "code",
   "execution_count": 3,
   "id": "9742f40b-e5e5-40e8-8f62-692a985e953c",
   "metadata": {},
   "outputs": [],
   "source": [
    "import os\n",
    "import time\n",
    "import json\n",
    "import requests\n",
    "import xml.etree.ElementTree as ET\n",
    "import datetime\n",
    "import subprocess"
   ]
  },
  {
   "cell_type": "code",
   "execution_count": 4,
   "id": "fe2eab2d-04db-43bd-9ccc-f9a6f6ff2d47",
   "metadata": {},
   "outputs": [],
   "source": [
    "if os.path.exists(\"/etc/hadoop/conf/hive-site.xml\"):\n",
    "    tree = ET.parse(\"/etc/hadoop/conf/hive-site.xml\")\n",
    "    root = tree.getroot()\n",
    "    for prop in root.findall(\"property\"):\n",
    "        if prop.find(\"name\").text == \"hive.metastore.warehouse.dir\":\n",
    "            storage = (\n",
    "                prop.find(\"value\").text.split(\"/\")[0]\n",
    "                + \"//\"\n",
    "                + prop.find(\"value\").text.split(\"/\")[2]\n",
    "            )"
   ]
  },
  {
   "cell_type": "code",
   "execution_count": 5,
   "id": "362747fd-6e30-43c6-948a-94e3751f1b6e",
   "metadata": {},
   "outputs": [],
   "source": [
    "os.environ[\"STORAGE\"] = storage"
   ]
  },
  {
   "cell_type": "code",
   "execution_count": 6,
   "id": "edbe32b7-5801-47b0-8f3b-a81aa6fb8fc7",
   "metadata": {},
   "outputs": [
    {
     "name": "stdout",
     "output_type": "stream",
     "text": [
      "s3a://go01-demo\n"
     ]
    }
   ],
   "source": [
    "print(storage)"
   ]
  },
  {
   "cell_type": "code",
   "execution_count": 30,
   "id": "64146b81-faaa-43ea-93a0-ce58cb23c4f5",
   "metadata": {},
   "outputs": [],
   "source": [
    "spark = SparkSession\\\n",
    "    .builder\\\n",
    "    .appName(\"PythonSQL\")\\\n",
    "    .config(\"spark.hadoop.fs.s3a.s3guard.ddb.region\",\"us-east-2\")\\\n",
    "    .config(\"spark.yarn.access.hadoopFileSystems\",os.environ[\"STORAGE\"])\\\n",
    "    .config(\"spark.rpc.message.maxSize\", \"1024\")\\\n",
    "    .config(\"spark.dynamicAllocation.enabled\", \"true\")\\\n",
    "    .getOrCreate()\n",
    " #   .config(\"spark.driver.cores\", 4)\\\n",
    " #   .config(\"spark.driver.memory\", \"8g\")\\\n",
    "    "
   ]
  },
  {
   "cell_type": "code",
   "execution_count": 31,
   "id": "de006039-1f0d-4d60-86b2-f1eab7d4d66f",
   "metadata": {},
   "outputs": [
    {
     "name": "stderr",
     "output_type": "stream",
     "text": [
      "                                                                                \r"
     ]
    }
   ],
   "source": [
    "customers_df = spark.read.csv(os.environ[\"STORAGE\"]+'/cde-workshop/clickthrough/customers/data', header=True)"
   ]
  },
  {
   "cell_type": "code",
   "execution_count": 9,
   "id": "12bcff34-f662-497b-b1f2-98367dd5259f",
   "metadata": {},
   "outputs": [
    {
     "name": "stdout",
     "output_type": "stream",
     "text": [
      "+-----------+\n",
      "|customer_id|\n",
      "+-----------+\n",
      "|          1|\n",
      "|          2|\n",
      "|          3|\n",
      "|          4|\n",
      "|          5|\n",
      "|          6|\n",
      "|          7|\n",
      "|          8|\n",
      "|          9|\n",
      "|         10|\n",
      "|         11|\n",
      "|         12|\n",
      "|         13|\n",
      "|         14|\n",
      "|         15|\n",
      "|         16|\n",
      "|         17|\n",
      "|         18|\n",
      "|         19|\n",
      "|         20|\n",
      "+-----------+\n",
      "only showing top 20 rows\n",
      "\n"
     ]
    }
   ],
   "source": [
    "customers_df.select(\"customer_id\").show()"
   ]
  },
  {
   "cell_type": "code",
   "execution_count": 10,
   "id": "f6176b8f-3cf3-4a07-b621-0c9561d1fad6",
   "metadata": {},
   "outputs": [
    {
     "name": "stdout",
     "output_type": "stream",
     "text": [
      "Requirement already satisfied: faker in ./.local/lib/python3.7/site-packages (15.1.1)\n",
      "Requirement already satisfied: python-dateutil>=2.4 in /runtime-addons/cmladdon-python-2.0.32-b123/opt/cmladdons/python/site-packages (from faker) (2.8.2)\n",
      "Requirement already satisfied: typing-extensions>=3.10.0.1 in /runtime-addons/cmladdon-python-2.0.32-b123/opt/cmladdons/python/site-packages (from faker) (4.1.1)\n",
      "Requirement already satisfied: six>=1.5 in /runtime-addons/cmladdon-python-2.0.32-b123/opt/cmladdons/python/site-packages (from python-dateutil>=2.4->faker) (1.16.0)\n"
     ]
    }
   ],
   "source": [
    "!pip3 install faker"
   ]
  },
  {
   "cell_type": "code",
   "execution_count": 11,
   "id": "0a04c92f-410b-469e-a765-b3f961045e54",
   "metadata": {},
   "outputs": [
    {
     "data": {
      "text/plain": [
       "[('customer_id', 'string'),\n",
       " ('username', 'string'),\n",
       " ('name', 'string'),\n",
       " ('gender', 'string'),\n",
       " ('email', 'string'),\n",
       " ('occupation', 'string'),\n",
       " ('birthdate', 'string'),\n",
       " ('address', 'string')]"
      ]
     },
     "execution_count": 11,
     "metadata": {},
     "output_type": "execute_result"
    }
   ],
   "source": [
    "customers_df.dtypes"
   ]
  },
  {
   "cell_type": "code",
   "execution_count": 12,
   "id": "1a43fe9c-637d-470d-b655-f39e4ba8af6c",
   "metadata": {},
   "outputs": [],
   "source": [
    "max_current_cust_id = int(customers_df.select(F.max(\"customer_id\")).collect()[0]['max(customer_id)'])"
   ]
  },
  {
   "cell_type": "code",
   "execution_count": 13,
   "id": "9cf197be-18ee-48ba-b908-91ceac9ecbc8",
   "metadata": {},
   "outputs": [],
   "source": [
    "from pyspark.sql.functions import udf\n",
    "from pyspark.sql.types import StringType"
   ]
  },
  {
   "cell_type": "code",
   "execution_count": 14,
   "id": "047fb6fd-0833-4da9-9beb-ad7a870bedd4",
   "metadata": {},
   "outputs": [],
   "source": [
    "from faker import Faker\n",
    "fake = Faker(seed=3)"
   ]
  },
  {
   "cell_type": "code",
   "execution_count": 15,
   "id": "351313b8-0e46-45ae-9109-3308894e5679",
   "metadata": {},
   "outputs": [
    {
     "name": "stdout",
     "output_type": "stream",
     "text": [
      "Requirement already satisfied: pandas in ./.local/lib/python3.7/site-packages (1.3.5)\n",
      "Requirement already satisfied: python-dateutil>=2.7.3 in /runtime-addons/cmladdon-python-2.0.32-b123/opt/cmladdons/python/site-packages (from pandas) (2.8.2)\n",
      "Requirement already satisfied: numpy>=1.17.3 in /usr/local/lib/python3.7/site-packages (from pandas) (1.19.4)\n",
      "Requirement already satisfied: pytz>=2017.3 in /runtime-addons/cmladdon-python-2.0.32-b123/opt/cmladdons/python/site-packages (from pandas) (2022.4)\n",
      "Requirement already satisfied: six>=1.5 in /runtime-addons/cmladdon-python-2.0.32-b123/opt/cmladdons/python/site-packages (from python-dateutil>=2.7.3->pandas) (1.16.0)\n"
     ]
    }
   ],
   "source": [
    "!pip3 install pandas\n",
    "import pandas as pd"
   ]
  },
  {
   "cell_type": "code",
   "execution_count": 16,
   "id": "486b9fec-a2f8-4129-97ae-e818f6aa1091",
   "metadata": {},
   "outputs": [],
   "source": [
    "appends = []\n",
    "for i in range(5):\n",
    "    appends.append(fake.profile())"
   ]
  },
  {
   "cell_type": "code",
   "execution_count": 17,
   "id": "7bf386e5-dc30-498a-bb1d-4bba752a3871",
   "metadata": {},
   "outputs": [],
   "source": [
    "appends_df = pd.DataFrame(appends)[[\"username\", \"name\", \"sex\", \"mail\", \"job\", \"birthdate\", \"address\"]]"
   ]
  },
  {
   "cell_type": "code",
   "execution_count": 18,
   "id": "5d1665af-05cb-4126-a37f-6fdbd3f79d8b",
   "metadata": {},
   "outputs": [],
   "source": [
    "import random\n",
    "import numpy as np"
   ]
  },
  {
   "cell_type": "code",
   "execution_count": 19,
   "id": "01902c93-9670-46ff-bd15-3071411b2f4d",
   "metadata": {},
   "outputs": [],
   "source": [
    "def make_batch_df(max_current_cust_id):\n",
    "    batch_size = random.randint(100, 1000)\n",
    "    appends = []\n",
    "    for i in range(batch_size):\n",
    "        appends.append(fake.profile())\n",
    "    appends_df = pd.DataFrame(appends)[[\"username\", \"name\", \"sex\", \"mail\", \"job\", \"birthdate\", \"address\"]]\n",
    "    appends_df['customer_id'] = list(range(max_current_cust_id, max_current_cust_id+batch_size))\n",
    "    return appends_df"
   ]
  },
  {
   "cell_type": "code",
   "execution_count": 20,
   "id": "99f21acc-e429-427e-85a1-875f898c884c",
   "metadata": {},
   "outputs": [
    {
     "data": {
      "text/html": [
       "<div>\n",
       "<style scoped>\n",
       "    .dataframe tbody tr th:only-of-type {\n",
       "        vertical-align: middle;\n",
       "    }\n",
       "\n",
       "    .dataframe tbody tr th {\n",
       "        vertical-align: top;\n",
       "    }\n",
       "\n",
       "    .dataframe thead th {\n",
       "        text-align: right;\n",
       "    }\n",
       "</style>\n",
       "<table border=\"1\" class=\"dataframe\">\n",
       "  <thead>\n",
       "    <tr style=\"text-align: right;\">\n",
       "      <th></th>\n",
       "      <th>username</th>\n",
       "      <th>name</th>\n",
       "      <th>sex</th>\n",
       "      <th>mail</th>\n",
       "      <th>job</th>\n",
       "      <th>birthdate</th>\n",
       "      <th>address</th>\n",
       "      <th>customer_id</th>\n",
       "    </tr>\n",
       "  </thead>\n",
       "  <tbody>\n",
       "    <tr>\n",
       "      <th>0</th>\n",
       "      <td>mavila</td>\n",
       "      <td>Rhonda Johnson</td>\n",
       "      <td>F</td>\n",
       "      <td>johnwilliams@yahoo.com</td>\n",
       "      <td>Therapist, drama</td>\n",
       "      <td>2000-09-12</td>\n",
       "      <td>Unit 3313 Box 5140\\nDPO AA 02879</td>\n",
       "      <td>9999</td>\n",
       "    </tr>\n",
       "    <tr>\n",
       "      <th>1</th>\n",
       "      <td>kevin36</td>\n",
       "      <td>Carmen Griffin</td>\n",
       "      <td>F</td>\n",
       "      <td>dalemullins@yahoo.com</td>\n",
       "      <td>Trade mark attorney</td>\n",
       "      <td>1946-04-15</td>\n",
       "      <td>991 Lauren Fort\\nMossville, WA 57733</td>\n",
       "      <td>10000</td>\n",
       "    </tr>\n",
       "    <tr>\n",
       "      <th>2</th>\n",
       "      <td>jpineda</td>\n",
       "      <td>Allen Torres</td>\n",
       "      <td>M</td>\n",
       "      <td>kevinjenkins@gmail.com</td>\n",
       "      <td>Water engineer</td>\n",
       "      <td>1972-09-09</td>\n",
       "      <td>3400 Charles Plain Apt. 285\\nMorganbury, SC 04316</td>\n",
       "      <td>10001</td>\n",
       "    </tr>\n",
       "    <tr>\n",
       "      <th>3</th>\n",
       "      <td>krystalellis</td>\n",
       "      <td>Barbara Mitchell</td>\n",
       "      <td>F</td>\n",
       "      <td>jamesrios@gmail.com</td>\n",
       "      <td>Soil scientist</td>\n",
       "      <td>1908-02-10</td>\n",
       "      <td>2788 Castillo Fall\\nRebeccaview, HI 20055</td>\n",
       "      <td>10002</td>\n",
       "    </tr>\n",
       "    <tr>\n",
       "      <th>4</th>\n",
       "      <td>hancockrichard</td>\n",
       "      <td>George Parker</td>\n",
       "      <td>M</td>\n",
       "      <td>imooney@yahoo.com</td>\n",
       "      <td>Scientist, research (maths)</td>\n",
       "      <td>1996-03-03</td>\n",
       "      <td>1549 Conway Valleys\\nSouth Johnfort, AL 43825</td>\n",
       "      <td>10003</td>\n",
       "    </tr>\n",
       "    <tr>\n",
       "      <th>...</th>\n",
       "      <td>...</td>\n",
       "      <td>...</td>\n",
       "      <td>...</td>\n",
       "      <td>...</td>\n",
       "      <td>...</td>\n",
       "      <td>...</td>\n",
       "      <td>...</td>\n",
       "      <td>...</td>\n",
       "    </tr>\n",
       "    <tr>\n",
       "      <th>354</th>\n",
       "      <td>qrice</td>\n",
       "      <td>Robert Hernandez</td>\n",
       "      <td>M</td>\n",
       "      <td>brandon09@gmail.com</td>\n",
       "      <td>Waste management officer</td>\n",
       "      <td>1912-05-13</td>\n",
       "      <td>2263 Tina Springs\\nNew Melissa, IN 52637</td>\n",
       "      <td>10353</td>\n",
       "    </tr>\n",
       "    <tr>\n",
       "      <th>355</th>\n",
       "      <td>djones</td>\n",
       "      <td>Kristi Henderson</td>\n",
       "      <td>F</td>\n",
       "      <td>isabelhowe@gmail.com</td>\n",
       "      <td>Heritage manager</td>\n",
       "      <td>1911-02-26</td>\n",
       "      <td>429 Desiree Stream\\nNew Jessicashire, SD 68761</td>\n",
       "      <td>10354</td>\n",
       "    </tr>\n",
       "    <tr>\n",
       "      <th>356</th>\n",
       "      <td>williamsjustin</td>\n",
       "      <td>Jeffrey Anderson</td>\n",
       "      <td>M</td>\n",
       "      <td>jcordova@yahoo.com</td>\n",
       "      <td>Translator</td>\n",
       "      <td>1937-01-13</td>\n",
       "      <td>43439 Hodge Motorway\\nMillerstad, NC 70033</td>\n",
       "      <td>10355</td>\n",
       "    </tr>\n",
       "    <tr>\n",
       "      <th>357</th>\n",
       "      <td>nsilva</td>\n",
       "      <td>Jennifer Jackson</td>\n",
       "      <td>F</td>\n",
       "      <td>ifoley@hotmail.com</td>\n",
       "      <td>Dietitian</td>\n",
       "      <td>1918-05-27</td>\n",
       "      <td>5876 Brittany Cove\\nNguyenbury, DE 38422</td>\n",
       "      <td>10356</td>\n",
       "    </tr>\n",
       "    <tr>\n",
       "      <th>358</th>\n",
       "      <td>juliemcgee</td>\n",
       "      <td>Michael Bridges</td>\n",
       "      <td>M</td>\n",
       "      <td>tmahoney@gmail.com</td>\n",
       "      <td>Manufacturing systems engineer</td>\n",
       "      <td>1927-09-07</td>\n",
       "      <td>41263 Greer Islands\\nRyanshire, ND 34432</td>\n",
       "      <td>10357</td>\n",
       "    </tr>\n",
       "  </tbody>\n",
       "</table>\n",
       "<p>359 rows × 8 columns</p>\n",
       "</div>"
      ],
      "text/plain": [
       "           username              name sex                    mail  \\\n",
       "0            mavila    Rhonda Johnson   F  johnwilliams@yahoo.com   \n",
       "1           kevin36    Carmen Griffin   F   dalemullins@yahoo.com   \n",
       "2           jpineda      Allen Torres   M  kevinjenkins@gmail.com   \n",
       "3      krystalellis  Barbara Mitchell   F     jamesrios@gmail.com   \n",
       "4    hancockrichard     George Parker   M       imooney@yahoo.com   \n",
       "..              ...               ...  ..                     ...   \n",
       "354           qrice  Robert Hernandez   M     brandon09@gmail.com   \n",
       "355          djones  Kristi Henderson   F    isabelhowe@gmail.com   \n",
       "356  williamsjustin  Jeffrey Anderson   M      jcordova@yahoo.com   \n",
       "357          nsilva  Jennifer Jackson   F      ifoley@hotmail.com   \n",
       "358      juliemcgee   Michael Bridges   M      tmahoney@gmail.com   \n",
       "\n",
       "                                job   birthdate  \\\n",
       "0                  Therapist, drama  2000-09-12   \n",
       "1               Trade mark attorney  1946-04-15   \n",
       "2                    Water engineer  1972-09-09   \n",
       "3                    Soil scientist  1908-02-10   \n",
       "4       Scientist, research (maths)  1996-03-03   \n",
       "..                              ...         ...   \n",
       "354        Waste management officer  1912-05-13   \n",
       "355                Heritage manager  1911-02-26   \n",
       "356                      Translator  1937-01-13   \n",
       "357                       Dietitian  1918-05-27   \n",
       "358  Manufacturing systems engineer  1927-09-07   \n",
       "\n",
       "                                               address  customer_id  \n",
       "0                     Unit 3313 Box 5140\\nDPO AA 02879         9999  \n",
       "1                 991 Lauren Fort\\nMossville, WA 57733        10000  \n",
       "2    3400 Charles Plain Apt. 285\\nMorganbury, SC 04316        10001  \n",
       "3            2788 Castillo Fall\\nRebeccaview, HI 20055        10002  \n",
       "4        1549 Conway Valleys\\nSouth Johnfort, AL 43825        10003  \n",
       "..                                                 ...          ...  \n",
       "354           2263 Tina Springs\\nNew Melissa, IN 52637        10353  \n",
       "355     429 Desiree Stream\\nNew Jessicashire, SD 68761        10354  \n",
       "356         43439 Hodge Motorway\\nMillerstad, NC 70033        10355  \n",
       "357           5876 Brittany Cove\\nNguyenbury, DE 38422        10356  \n",
       "358           41263 Greer Islands\\nRyanshire, ND 34432        10357  \n",
       "\n",
       "[359 rows x 8 columns]"
      ]
     },
     "execution_count": 20,
     "metadata": {},
     "output_type": "execute_result"
    }
   ],
   "source": [
    "make_batch_df(9999)"
   ]
  },
  {
   "cell_type": "code",
   "execution_count": 37,
   "id": "e20a1bf1-c5fa-4041-833e-a1e45b641078",
   "metadata": {},
   "outputs": [
    {
     "name": "stderr",
     "output_type": "stream",
     "text": [
      "                                                                                \r"
     ]
    }
   ],
   "source": [
    "ct_hist_df = spark.read.option(\"header\",\"true\").parquet(\"s3a://go01-demo/cde-workshop/clickthrough/historical\")"
   ]
  },
  {
   "cell_type": "code",
   "execution_count": 86,
   "id": "004f2271-7c03-4455-bae6-794565b9c6ca",
   "metadata": {},
   "outputs": [
    {
     "name": "stderr",
     "output_type": "stream",
     "text": [
      "                                                                                \r"
     ]
    }
   ],
   "source": [
    "hist_ded_ids = ct_hist_df.select(\"device_id\").sample(.01).toPandas()"
   ]
  },
  {
   "cell_type": "code",
   "execution_count": 87,
   "id": "3ba4dc52-828d-4e24-8b78-d243e29c213a",
   "metadata": {},
   "outputs": [],
   "source": [
    "unique_arr = np.unique(hist_ded_ids.device_id)"
   ]
  },
  {
   "cell_type": "code",
   "execution_count": 88,
   "id": "fd01dd54-2522-4c65-a0a9-06aecf0a2878",
   "metadata": {},
   "outputs": [
    {
     "data": {
      "text/plain": [
       "array(['000032d7', '000070cc', '00038618', ..., 'ffff60f9', 'ffff9249',\n",
       "       'ffffe321'], dtype=object)"
      ]
     },
     "execution_count": 88,
     "metadata": {},
     "output_type": "execute_result"
    }
   ],
   "source": [
    "unique_arr"
   ]
  },
  {
   "cell_type": "code",
   "execution_count": 90,
   "id": "ec662aca-0db8-4f68-ab3e-6b6fdb648533",
   "metadata": {},
   "outputs": [
    {
     "data": {
      "text/plain": [
       "10000"
      ]
     },
     "execution_count": 90,
     "metadata": {},
     "output_type": "execute_result"
    }
   ],
   "source": [
    "hist_ded_ids = unique_arr[0:10000]\n",
    "len(hist_ded_ids)"
   ]
  },
  {
   "cell_type": "code",
   "execution_count": 32,
   "id": "f2db616f-9e6d-45b4-9066-54c41428dfa0",
   "metadata": {},
   "outputs": [],
   "source": [
    "customers_pd_df = customers_df.toPandas()"
   ]
  },
  {
   "cell_type": "code",
   "execution_count": 46,
   "id": "d76e0adf-fe29-4674-90e2-2a78faac3e95",
   "metadata": {},
   "outputs": [
    {
     "data": {
      "text/plain": [
       "device_id    10000\n",
       "dtype: int64"
      ]
     },
     "execution_count": 46,
     "metadata": {},
     "output_type": "execute_result"
    }
   ],
   "source": [
    "hist_ded_ids.count()"
   ]
  },
  {
   "cell_type": "code",
   "execution_count": 95,
   "id": "c50cd89f-db56-4e48-9ead-0899b6a5976b",
   "metadata": {},
   "outputs": [],
   "source": [
    "#customers_pd_df = customers_pd_df.drop([\"devide_id\"])\n",
    "customers_pd_df[\"device_id\"] = hist_ded_ids"
   ]
  },
  {
   "cell_type": "code",
   "execution_count": 98,
   "id": "47f08182-0cc7-4441-919f-a6a134d9cd21",
   "metadata": {},
   "outputs": [],
   "source": [
    "customers_pd_df = customers_pd_df.drop(\"devide_id\", axis=1)"
   ]
  },
  {
   "cell_type": "code",
   "execution_count": 100,
   "id": "83830dce-d219-4ea3-b5d6-7171c19b0002",
   "metadata": {},
   "outputs": [],
   "source": [
    "final_spark_df_customers = spark.createDataFrame(customers_pd_df)"
   ]
  },
  {
   "cell_type": "code",
   "execution_count": 101,
   "id": "23d14a30-37dc-486a-83a5-46338c136a55",
   "metadata": {},
   "outputs": [
    {
     "name": "stderr",
     "output_type": "stream",
     "text": [
      "                                                                                \r"
     ]
    }
   ],
   "source": [
    "final_spark_df_customers.write.mode(\"overwrite\").csv(os.environ[\"STORAGE\"]+'/cde-workshop/clickthrough/customers/data', header=True)"
   ]
  },
  {
   "cell_type": "code",
   "execution_count": 102,
   "id": "2fce4a16-9099-47ee-a1a6-21448a9950e3",
   "metadata": {},
   "outputs": [
    {
     "name": "stderr",
     "output_type": "stream",
     "text": [
      "                                                                                \r"
     ]
    }
   ],
   "source": [
    "verify_df = spark.read.csv(os.environ[\"STORAGE\"]+'/cde-workshop/clickthrough/customers/data', header=True)"
   ]
  },
  {
   "cell_type": "code",
   "execution_count": 103,
   "id": "b9904396-42e6-470a-951c-b5cd98f793c4",
   "metadata": {},
   "outputs": [
    {
     "name": "stdout",
     "output_type": "stream",
     "text": [
      "+-----------+--------------+--------------------+------+--------------------+--------------------+----------+--------------------+---------+\n",
      "|customer_id|      username|                name|gender|               email|          occupation| birthdate|             address|device_id|\n",
      "+-----------+--------------+--------------------+------+--------------------+--------------------+----------+--------------------+---------+\n",
      "|          1|       robin48|       Jesse Spencer|     M|   udalton@yahoo.com|Pharmacist, commu...|1975-09-24|10305 Scott River...| 000032d7|\n",
      "|          2|cynthiajackson|     Savannah Daniel|     F|walkerchristopher...|        Set designer|1934-09-28|70884 Andrew Plaz...| 000070cc|\n",
      "|          3|       ydurham|     Alexander Davis|     M|annlindsey@yahoo.com|Plant breeder/gen...|1975-11-09|0365 Carrie Point...| 00038618|\n",
      "|          4| murphymichael|      Patrick Cortez|     M| freeves@hotmail.com|Scientist, audiol...|1911-01-20|9864 Brian Walk S...| 000727b1|\n",
      "|          5|    brittany85|      Robert Ballard|     M|donald73@hotmail.com|    Industrial buyer|2010-08-12|PSC 2637, Box 266...| 000828f7|\n",
      "|          6|       kevin51|    Gary Watkins DDS|     M|     jay41@gmail.com|Air traffic contr...|1941-03-29|2983 Stewart Cres...| 0008e3ee|\n",
      "|          7|thomasanderson|  Elizabeth Harrison|     F|  cwalsh@hotmail.com|Pharmacist, commu...|1926-03-31|369 Jillian Circl...| 0009e271|\n",
      "|          8|         fcole|        Thomas Simon|     M|wyattshannon@hotm...|            Animator|1941-09-11|36165 Amanda Cres...| 000b6e10|\n",
      "|          9|      wbennett|       Thomas Rivers|     M|    ggates@yahoo.com|Scientist, audiol...|1936-07-20|8254 Jennifer Poi...| 00102b65|\n",
      "|         10|    danielkent|        Mariah Rojas|     F|  dawnruiz@gmail.com|Exhibitions offic...|1957-02-20|189 Bryan Mountai...| 00171260|\n",
      "|         11|  joneskristin|       Dale Williams|     M|      ulee@yahoo.com|            Best boy|1924-11-27|79823 Jonathan Ov...| 0019f7d0|\n",
      "|         12|        sbrown|Mrs. Shelley Lambert|     F|  todddunn@gmail.com|Commercial/reside...|1969-03-20|88079 Brian WallM...| 001ac871|\n",
      "|         13|     michael81|    Melissa Castillo|     F|michaeldavila@gma...|Journalist, broad...|1930-02-12|94427 Rachel KeyH...| 001dd02b|\n",
      "|         14| lambchristian|         Lisa Kelley|     F|rebeccasmith@hotm...|Consulting civil ...|2003-04-29|617 Pena PointJen...| 001fa78e|\n",
      "|         15|        ssmith|       Willie Medina|     M|  cjenkins@yahoo.com|Higher education ...|1922-10-20|PSC 4133, Box 951...| 0024ee8d|\n",
      "|         16|       jason58|     Benjamin Torres|     M|schmidtsue@yahoo.com|        Risk analyst|1993-07-19|2404 Roger Club A...| 00262b95|\n",
      "|         17|      kjohnson|          Mark Davis|     M|connerwilliam@yah...| Associate Professor|1938-10-31|68487 Villegas Ma...| 00268f31|\n",
      "|         18|   walkersarah|    Christina Ingram|     F|craigfaulkner@hot...|Magazine features...|1918-05-28|10893 Prince Fore...| 0026921d|\n",
      "|         19|    brittany79|         Kiara Smith|     F|victoria46@yahoo.com|         Ship broker|2013-06-10|47282 Christina C...| 00286fb0|\n",
      "|         20|     smithkurt|        Richard Kent|     M|  thomas83@yahoo.com|Geographical info...|2004-10-09|USS FordFPO AA 15552| 0028f49f|\n",
      "+-----------+--------------+--------------------+------+--------------------+--------------------+----------+--------------------+---------+\n",
      "only showing top 20 rows\n",
      "\n"
     ]
    }
   ],
   "source": [
    "verify_df.show()"
   ]
  },
  {
   "cell_type": "code",
   "execution_count": null,
   "id": "c214c221-3dcb-497d-a232-384063c09f9e",
   "metadata": {},
   "outputs": [],
   "source": []
  },
  {
   "cell_type": "code",
   "execution_count": 104,
   "id": "723dc987-a3a3-419b-8928-a76be0f5f2a3",
   "metadata": {},
   "outputs": [
    {
     "name": "stderr",
     "output_type": "stream",
     "text": [
      "                                                                                \r"
     ]
    }
   ],
   "source": [
    "hist_ded_ids = ct_hist_df.select(\"device_id\").sample(.01).toPandas()"
   ]
  },
  {
   "cell_type": "code",
   "execution_count": 105,
   "id": "c7c3179e-da9b-4400-b5fa-71830e79cced",
   "metadata": {},
   "outputs": [],
   "source": [
    "unique_arr2 = np.unique(hist_ded_ids.device_id)"
   ]
  },
  {
   "cell_type": "code",
   "execution_count": 107,
   "id": "77105651-e660-46b2-8ae6-98a4fa0f212f",
   "metadata": {},
   "outputs": [],
   "source": [
    "sample_device_ids = [i for i in unique_arr2 if i not in unique_arr]"
   ]
  },
  {
   "cell_type": "code",
   "execution_count": 108,
   "id": "dd457d9d-a5ba-46df-b88a-d8b374c8e1d3",
   "metadata": {},
   "outputs": [
    {
     "data": {
      "text/plain": [
       "29261"
      ]
     },
     "execution_count": 108,
     "metadata": {},
     "output_type": "execute_result"
    }
   ],
   "source": [
    "len(sample_device_ids)"
   ]
  },
  {
   "cell_type": "code",
   "execution_count": 113,
   "id": "1f856a8c-b89e-4239-989c-7d7184f982fe",
   "metadata": {},
   "outputs": [],
   "source": [
    "array_df = pd.DataFrame(sample_device_ids, columns=['device_id'])\n",
    "device_id_spark_df = spark.createDataFrame(array_df)"
   ]
  },
  {
   "cell_type": "code",
   "execution_count": 114,
   "id": "83eca045-2fd8-432c-9ecf-d8a356ab69a0",
   "metadata": {},
   "outputs": [
    {
     "name": "stderr",
     "output_type": "stream",
     "text": [
      "                                                                                \r"
     ]
    }
   ],
   "source": [
    "device_id_spark_df.write.csv(os.environ[\"STORAGE\"]+'/cde-workshop/clickthrough/customers/data/device_ids', header=True)"
   ]
  },
  {
   "cell_type": "code",
   "execution_count": 115,
   "id": "0fc319be-848b-463e-bba6-7ec337f1181b",
   "metadata": {},
   "outputs": [],
   "source": [
    "def make_batch_df(max_current_cust_id):\n",
    "    batch_size = random.randint(100, 1000)\n",
    "    appends = []\n",
    "    for i in range(batch_size):\n",
    "        appends.append(fake.profile())\n",
    "    appends_df = pd.DataFrame(appends)[[\"username\", \"name\", \"sex\", \"mail\", \"job\", \"birthdate\", \"address\"]]\n",
    "    appends_df['customer_id'] = list(range(max_current_cust_id, max_current_cust_id+batch_size))\n",
    "    return appends_df"
   ]
  },
  {
   "cell_type": "code",
   "execution_count": 121,
   "id": "1ab9a9f7-c049-442c-b5d2-ebe3e0e68c7a",
   "metadata": {},
   "outputs": [],
   "source": [
    "new_batch_pd_df = make_batch_df(max_current_cust_id)\n",
    "new_batch_pd_df_count = new_batch_pd_df.count()"
   ]
  },
  {
   "cell_type": "code",
   "execution_count": 122,
   "id": "309894de-c4df-453d-82be-4559f2c56461",
   "metadata": {},
   "outputs": [],
   "source": [
    "new_batch_spark_df = spark.createDataFrame(new_batch_pd_df)"
   ]
  },
  {
   "cell_type": "code",
   "execution_count": 124,
   "id": "93ee6694-0bc6-4cfc-8102-b633bedbfa9d",
   "metadata": {},
   "outputs": [
    {
     "data": {
      "text/plain": [
       "304"
      ]
     },
     "execution_count": 124,
     "metadata": {},
     "output_type": "execute_result"
    }
   ],
   "source": [
    "new_batch_pd_df_count[0]"
   ]
  },
  {
   "cell_type": "code",
   "execution_count": 125,
   "id": "00d79982-1554-4e46-8ecc-7ec09922132f",
   "metadata": {},
   "outputs": [
    {
     "name": "stderr",
     "output_type": "stream",
     "text": [
      "                                                                                \r"
     ]
    }
   ],
   "source": [
    "in_device_id_spark_df = spark.read.csv(os.environ[\"STORAGE\"]+'/cde-workshop/clickthrough/customers/data/device_ids', header=True)"
   ]
  },
  {
   "cell_type": "code",
   "execution_count": 127,
   "id": "eff37a50-6695-40d9-8fe8-7bf699793a24",
   "metadata": {},
   "outputs": [
    {
     "name": "stderr",
     "output_type": "stream",
     "text": [
      "[Stage 20:>                                                         (0 + 1) / 1]\r"
     ]
    },
    {
     "name": "stdout",
     "output_type": "stream",
     "text": [
      "+---------+\n",
      "|device_id|\n",
      "+---------+\n",
      "| 7e00e93d|\n",
      "| 7e01296d|\n",
      "| 7e033a05|\n",
      "| 7e04addc|\n",
      "| 7e062ffd|\n",
      "+---------+\n",
      "\n"
     ]
    },
    {
     "name": "stderr",
     "output_type": "stream",
     "text": [
      "                                                                                \r"
     ]
    }
   ],
   "source": [
    "in_device_id_spark_df.limit(5).show()"
   ]
  },
  {
   "cell_type": "code",
   "execution_count": null,
   "id": "22b3c244-2e69-4dc1-a5d6-d7a2d9d34532",
   "metadata": {},
   "outputs": [],
   "source": []
  },
  {
   "cell_type": "code",
   "execution_count": null,
   "id": "f28d0e5e-9952-49de-83d2-e863611d7b67",
   "metadata": {},
   "outputs": [],
   "source": []
  },
  {
   "cell_type": "code",
   "execution_count": null,
   "id": "30ddce7e-32e6-4e03-a7fb-eff9f2075fd4",
   "metadata": {},
   "outputs": [],
   "source": []
  },
  {
   "cell_type": "code",
   "execution_count": null,
   "id": "f98d9bfe-d15a-4690-bb93-16a8b0736d93",
   "metadata": {},
   "outputs": [],
   "source": []
  },
  {
   "cell_type": "code",
   "execution_count": null,
   "id": "bca550aa-5bdf-47a6-b4d7-3a9877fc3e2b",
   "metadata": {},
   "outputs": [],
   "source": []
  },
  {
   "cell_type": "code",
   "execution_count": null,
   "id": "26404d59-1a06-4af8-8e16-172fc8cbe5c3",
   "metadata": {},
   "outputs": [],
   "source": []
  },
  {
   "cell_type": "code",
   "execution_count": null,
   "id": "f3a5af7d-b51d-45bd-b212-cfe4ddbe7c3e",
   "metadata": {},
   "outputs": [],
   "source": [
    "spark.createDataFrame(new_batch_pd_df)"
   ]
  }
 ],
 "metadata": {
  "kernelspec": {
   "display_name": "Python 3 (ipykernel)",
   "language": "python",
   "name": "python3"
  },
  "language_info": {
   "codemirror_mode": {
    "name": "ipython",
    "version": 3
   },
   "file_extension": ".py",
   "mimetype": "text/x-python",
   "name": "python",
   "nbconvert_exporter": "python",
   "pygments_lexer": "ipython3",
   "version": "3.7.13"
  }
 },
 "nbformat": 4,
 "nbformat_minor": 5
}
